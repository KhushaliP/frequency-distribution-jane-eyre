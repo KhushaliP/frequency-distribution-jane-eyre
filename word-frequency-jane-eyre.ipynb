{
 "cells": [
  {
   "cell_type": "markdown",
   "id": "25c620b0",
   "metadata": {},
   "source": [
    "# Word Frequency Analysis of Jane Eyre"
   ]
  },
  {
   "cell_type": "code",
   "execution_count": 1,
   "id": "67f0d98e",
   "metadata": {},
   "outputs": [],
   "source": [
    "import requests\n",
    "from bs4 import BeautifulSoup\n",
    "import nltk\n",
    "import matplotlib as plt"
   ]
  },
  {
   "cell_type": "markdown",
   "id": "355c0861",
   "metadata": {},
   "source": [
    "## Requesting Jane Eyre from Project Gutenberg"
   ]
  },
  {
   "cell_type": "code",
   "execution_count": 2,
   "id": "114a0135",
   "metadata": {},
   "outputs": [
    {
     "name": "stdout",
     "output_type": "stream",
     "text": [
      "<!DOCTYPE html PUBLIC \"-//W3C//DTD XHTML 1.0 Strict//EN\"\r\n",
      "\"http://www.w3.org/TR/xhtml1/DTD/xhtml1-strict.dtd\">\r\n",
      "<html xmlns=\"http://www.w3.org/1999/xhtml\" xml:lang=\"en\" lang=\"en\">\r\n",
      "<head>\r\n",
      "<meta http-equiv=\"Content-Type\" content=\"text/html;charset=utf-8\" />\r\n",
      "<meta http-equiv=\"Content-Style-Type\" content=\"text/css\" />\r\n",
      "<title>The Project Gutenberg eBook of Jane Eyre, by Charlotte Brontë</title>\r\n",
      "\r\n",
      "<style type=\"text/css\">\r\n",
      "\r\n",
      "body { margin-left: 20%;\r\n",
      "       margin-right: 20%;\r\n",
      "       text-align: justify; }\r\n",
      "\r\n",
      "h1, h2, h3, h4, h5 {text-align: center; font-style: normal; font-weight:\r\n",
      "normal; line-height: 1.5; margin-top: .5em; margin-bottom: .5em;}\r\n",
      "\r\n",
      "h1 {font-size: 300%;\r\n",
      "    margin-top: 0.6em;\r\n",
      "    margin-bottom: 0.6em;\r\n",
      "    letter-spacing: 0.12em;\r\n",
      "    word-spacing: 0.2em;\r\n",
      "    text-indent: 0em;}\r\n",
      "h2 {font-size: 150%; margin-top: 2em; margin-bottom: 1em;}\r\n",
      "h3 {font-size: 130%; margin-top: 1em;}\r\n",
      "h4 {font-size: 120%;}\r\n",
      "h5 {font-size: 110%;}\r\n",
      "\r\n",
      ".no-break {page-break-before: avoid;} /* for\n"
     ]
    }
   ],
   "source": [
    "url = \"https://www.gutenberg.org/files/1260/1260-h/1260-h.htm\"\n",
    "\n",
    "#Getting the Jane Eyre url\n",
    "r = requests.get(url)\n",
    "#Setting the correct text encoding of the html page\n",
    "r.encoding ='utf-8'\n",
    "\n",
    "#Extracting html from the request file\n",
    "html=r.text\n",
    "print(html[:1000])"
   ]
  },
  {
   "cell_type": "markdown",
   "id": "7f92a5e2",
   "metadata": {},
   "source": [
    "## Extracting text from html"
   ]
  },
  {
   "cell_type": "code",
   "execution_count": 10,
   "id": "ad418ad2",
   "metadata": {
    "scrolled": true
   },
   "outputs": [
    {
     "name": "stdout",
     "output_type": "stream",
     "text": [
      "t my claim to the title of novelist rests on this one work alone. If,\r\n",
      "therefore, the authorship of other works of fiction has been attributed to me,\r\n",
      "an honour is awarded where it is not merited; and consequently, denied where it\r\n",
      "is justly due.\r\n",
      "\n",
      "\r\n",
      "This explanation will serve to rectify mistakes which may already have been\r\n",
      "made, and to prevent future errors.\r\n",
      "\n",
      "\r\n",
      "CURRER BELL.\r\n",
      "\n",
      "\n",
      "April 13th, 1848.\r\n",
      "\n",
      "\n",
      "\n",
      "CHAPTER I\n",
      "\r\n",
      "There was no possibility of taking a walk that day. We had been wandering,\r\n",
      "indeed, in the leafless shrubbery an hour in the morning; but since dinner\r\n",
      "(Mrs. Reed, when there was no company, dined early) the cold winter wind had\r\n",
      "brought with it clouds so sombre, and a rain so penetrating, that further\r\n",
      "outdoor exercise was now out of the question.\r\n",
      "\n",
      "\r\n",
      "I was glad of it: I never liked long walks, especially on chilly afternoons:\r\n",
      "dreadful to me was the coming home in the raw twilight, with nipped fingers and\r\n",
      "toes, and a heart saddened by the chidings of Bessie, the nurse, and\n"
     ]
    }
   ],
   "source": [
    "soup = BeautifulSoup(html)\n",
    "text= soup.get_text()\n",
    "print(text[6000:7000])"
   ]
  },
  {
   "cell_type": "markdown",
   "id": "7416601e",
   "metadata": {},
   "source": [
    "## Text preprocessing"
   ]
  },
  {
   "cell_type": "code",
   "execution_count": 16,
   "id": "c3e9155d",
   "metadata": {
    "scrolled": true
   },
   "outputs": [
    {
     "name": "stdout",
     "output_type": "stream",
     "text": [
      "['EYRE', 'CURRER', 'BELL', 'December', '21st', '1847', 'NOTE', 'TO', 'THE', 'THIRD', 'EDITION', 'I', 'avail', 'myself', 'of', 'the', 'opportunity', 'which', 'a', 'third', 'edition', 'of', 'Jane', 'Eyre', 'affords', 'me', 'of', 'again', 'addressing', 'a', 'word', 'to', 'the', 'Public', 'to', 'explain', 'that', 'my', 'claim', 'to', 'the', 'title', 'of', 'novelist', 'rests', 'on', 'this', 'one', 'work', 'alone', 'If', 'therefore', 'the', 'authorship', 'of', 'other', 'works', 'of', 'fiction', 'has', 'been', 'attributed', 'to', 'me', 'an', 'honour', 'is', 'awarded', 'where', 'it', 'is', 'not', 'merited', 'and', 'consequently', 'denied', 'where', 'it', 'is', 'justly', 'due', 'This', 'explanation', 'will', 'serve', 'to', 'rectify', 'mistakes', 'which', 'may', 'already', 'have', 'been', 'made', 'and', 'to', 'prevent', 'future', 'errors', 'CURRER', 'BELL', 'April', '13th', '1848', 'CHAPTER', 'I', 'There', 'was', 'no', 'possibility', 'of', 'taking', 'a', 'walk', 'that', 'day', 'We', 'had', 'been', 'wandering', 'indeed', 'in', 'the', 'leafless', 'shrubbery', 'an', 'hour', 'in', 'the', 'morning', 'but', 'since', 'dinner', 'Mrs', 'Reed', 'when', 'there', 'was', 'no', 'company', 'dined', 'early', 'the', 'cold', 'winter', 'wind', 'had', 'brought', 'with', 'it', 'clouds', 'so', 'sombre', 'and', 'a', 'rain', 'so', 'penetrating', 'that', 'further', 'outdoor', 'exercise', 'was', 'now', 'out', 'of', 'the', 'question', 'I', 'was', 'glad', 'of', 'it', 'I', 'never', 'liked', 'long', 'walks', 'especially', 'on', 'chilly', 'afternoons', 'dreadful', 'to', 'me', 'was', 'the', 'coming', 'home', 'in', 'the', 'raw', 'twilight', 'with', 'nipped', 'fingers', 'and', 'toes', 'and', 'a']\n"
     ]
    }
   ],
   "source": [
    "from nltk.tokenize import RegexpTokenizer\n",
    "tokenizer = nltk.tokenize.RegexpTokenizer('\\w+') #remove all whitespace and punctuation\n",
    "tokens=tokenizer.tokenize(text)\n",
    "\n",
    "print(tokens[1000:1200])"
   ]
  },
  {
   "cell_type": "code",
   "execution_count": 17,
   "id": "30f6aea6",
   "metadata": {
    "scrolled": true
   },
   "outputs": [
    {
     "name": "stdout",
     "output_type": "stream",
     "text": [
      "['eyre', 'currer', 'bell', 'december', '21st', '1847', 'note', 'to', 'the', 'third', 'edition', 'i', 'avail', 'myself', 'of', 'the', 'opportunity', 'which', 'a', 'third', 'edition', 'of', 'jane', 'eyre', 'affords', 'me', 'of', 'again', 'addressing', 'a', 'word', 'to', 'the', 'public', 'to', 'explain', 'that', 'my', 'claim', 'to', 'the', 'title', 'of', 'novelist', 'rests', 'on', 'this', 'one', 'work', 'alone', 'if', 'therefore', 'the', 'authorship', 'of', 'other', 'works', 'of', 'fiction', 'has', 'been', 'attributed', 'to', 'me', 'an', 'honour', 'is', 'awarded', 'where', 'it', 'is', 'not', 'merited', 'and', 'consequently', 'denied', 'where', 'it', 'is', 'justly', 'due', 'this', 'explanation', 'will', 'serve', 'to', 'rectify', 'mistakes', 'which', 'may', 'already', 'have', 'been', 'made', 'and', 'to', 'prevent', 'future', 'errors', 'currer', 'bell', 'april', '13th', '1848', 'chapter', 'i', 'there', 'was', 'no', 'possibility', 'of', 'taking', 'a', 'walk', 'that', 'day', 'we', 'had', 'been', 'wandering', 'indeed', 'in', 'the', 'leafless', 'shrubbery', 'an', 'hour', 'in', 'the', 'morning', 'but', 'since', 'dinner', 'mrs', 'reed', 'when', 'there', 'was', 'no', 'company', 'dined', 'early', 'the', 'cold', 'winter', 'wind', 'had', 'brought', 'with', 'it', 'clouds', 'so', 'sombre', 'and', 'a', 'rain', 'so', 'penetrating', 'that', 'further', 'outdoor', 'exercise', 'was', 'now', 'out', 'of', 'the', 'question', 'i', 'was', 'glad', 'of', 'it', 'i', 'never', 'liked', 'long', 'walks', 'especially', 'on', 'chilly', 'afternoons', 'dreadful', 'to', 'me', 'was', 'the', 'coming', 'home', 'in', 'the', 'raw', 'twilight', 'with', 'nipped', 'fingers', 'and', 'toes', 'and', 'a']\n"
     ]
    }
   ],
   "source": [
    "#Lowercase words\n",
    "\n",
    "words=[]\n",
    "\n",
    "for word in tokens:\n",
    "    words.append(word.lower())\n",
    "    \n",
    "print(words[1000:1200])"
   ]
  },
  {
   "cell_type": "markdown",
   "id": "645f0c3a",
   "metadata": {},
   "source": [
    "## Removing stop words"
   ]
  },
  {
   "cell_type": "code",
   "execution_count": 18,
   "id": "b485b858",
   "metadata": {
    "scrolled": true
   },
   "outputs": [
    {
     "name": "stdout",
     "output_type": "stream",
     "text": [
      "['sit', 'got', 'mrs', 'reed', 'lace', 'frills', 'crimped', 'nightcap', 'borders', 'fed', 'eager', 'attention', 'passages', 'love', 'adventure', 'taken', 'old', 'fairy', 'tales', 'ballads', 'later', 'period', 'discovered', 'pages', 'pamela', 'henry', 'earl', 'moreland', 'bewick', 'knee', 'happy', 'happy', 'least', 'way', 'feared', 'nothing', 'interruption', 'came', 'soon', 'breakfast', 'room', 'door', 'opened', 'boh', 'madam', 'mope', 'cried', 'voice', 'john', 'reed', 'paused', 'found', 'room', 'apparently', 'empty', 'dickens', 'continued', 'lizzy', 'georgy', 'calling', 'sisters', 'joan', 'tell', 'mama', 'run', 'rain', 'bad', 'animal', 'well', 'drew', 'curtain', 'thought', 'wished', 'fervently', 'might', 'discover', 'hiding', 'place', 'would', 'john', 'reed', 'found', 'quick', 'either', 'vision', 'conception', 'eliza', 'put', 'head', 'door', 'said', 'window', 'seat', 'sure', 'jack', 'came', 'immediately', 'trembled', 'idea', 'dragged', 'forth', 'said', 'jack', 'want', 'asked', 'awkward', 'diffidence', 'say', 'want', 'master', 'reed', 'answer', 'want', 'come', 'seating', 'arm', 'chair', 'intimated', 'gesture', 'approach', 'stand', 'john', 'reed', 'schoolboy', 'fourteen', 'years', 'old', 'four', 'years', 'older', 'ten', 'large', 'stout', 'age', 'dingy', 'unwholesome', 'skin', 'thick', 'lineaments', 'spacious', 'visage', 'heavy', 'limbs', 'large', 'extremities', 'gorged', 'habitually', 'table', 'made', 'bilious', 'gave', 'dim', 'bleared', 'eye', 'flabby', 'cheeks', 'ought', 'school', 'mama', 'taken', 'home', 'month', 'two', 'account', 'delicate', 'health', 'mr', 'miles', 'master', 'affirmed', 'would', 'well', 'fewer', 'cakes', 'sweetmeats', 'sent', 'home', 'mother', 'heart', 'turned', 'opinion', 'harsh', 'inclined', 'rather', 'refined', 'idea', 'john', 'sallowness', 'owing', 'application', 'perhaps', 'pining', 'home', 'john', 'much', 'affection', 'mother', 'sisters', 'antipathy', 'bullied']\n"
     ]
    }
   ],
   "source": [
    "# Getting the English stop words from nltk\n",
    "sw = nltk.corpus.stopwords.words('english')\n",
    "\n",
    "new_words = []\n",
    "for word in words:\n",
    "    if word not in sw:\n",
    "        new_words.append(word)\n",
    "        \n",
    "print(new_words[1000:1200])"
   ]
  },
  {
   "cell_type": "markdown",
   "id": "0314dde5",
   "metadata": {},
   "source": [
    "## Word Frequency Distribution plot"
   ]
  },
  {
   "cell_type": "code",
   "execution_count": 22,
   "id": "a980eb8e",
   "metadata": {},
   "outputs": [
    {
     "data": {
      "image/png": "[encoded data removed]",
      "text/plain": [
       "<Figure size 432x288 with 1 Axes>"
      ]
     },
     "metadata": {
      "needs_background": "light"
     },
     "output_type": "display_data"
    },
    {
     "data": {
      "text/plain": [
       "<AxesSubplot:xlabel='Samples', ylabel='Counts'>"
      ]
     },
     "execution_count": 22,
     "metadata": {},
     "output_type": "execute_result"
    }
   ],
   "source": [
    "%matplotlib inline\n",
    "\n",
    "freqdist = nltk.FreqDist(new_words)\n",
    "freqdist.plot(15)"
   ]
  }
 ],
 "metadata": {
  "kernelspec": {
   "display_name": "Python 3",
   "language": "python",
   "name": "python3"
  },
  "language_info": {
   "codemirror_mode": {
    "name": "ipython",
    "version": 3
   },
   "file_extension": ".py",
   "mimetype": "text/x-python",
   "name": "python",
   "nbconvert_exporter": "python",
   "pygments_lexer": "ipython3",
   "version": "3.8.3"
  }
 },
 "nbformat": 4,
 "nbformat_minor": 5
}
